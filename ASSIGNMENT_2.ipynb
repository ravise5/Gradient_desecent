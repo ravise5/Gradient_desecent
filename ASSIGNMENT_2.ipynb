{
 "cells": [
  {
   "cell_type": "code",
   "execution_count": 1,
   "metadata": {},
   "outputs": [],
   "source": [
    "                                                # ASSIGNMENT -- 2\n",
    "\n",
    "                                                # POLYNOMIAL REGRESSION\n",
    "# Captal X -- data taken from dataset\n",
    "# small x  -- x matrix with all possible combination for nth order \n",
    "# learn_rate for 6 degree is 3x10^(-9)\n",
    "# learn_rate for 5 degree is 3x10^(-9)\n",
    "# learn_rate for 4 degree is 3x10^(-8)\n",
    "# learn_rate for 3 degree is 3x10^(-7) 1000\n",
    "# learn_rate for 2 degree is 3x10^(-7) 1000\n",
    "# learn_rate for 1 degree is 3x10^(-6) "
   ]
  },
  {
   "cell_type": "code",
   "execution_count": 2,
   "metadata": {},
   "outputs": [],
   "source": [
    "import numpy as np\n",
    "import random\n",
    "import pandas as pd\n",
    "import matplotlib.pyplot as plt\n",
    "from sklearn.model_selection import train_test_split\n",
    "from tqdm import tqdm,trange,tqdm_notebook"
   ]
  },
  {
   "cell_type": "code",
   "execution_count": 3,
   "metadata": {},
   "outputs": [],
   "source": [
    "data = pd.read_csv(r\"R:\\3-1\\CS F320\\3D_spatial_network.csv\")"
   ]
  },
  {
   "cell_type": "code",
   "execution_count": 4,
   "metadata": {},
   "outputs": [],
   "source": [
    "X = np.array(data.iloc[:,0:2].values)\n",
    "\n",
    "y = np.array(data.iloc[:,2:3].values)\n",
    "learn_rate  = 0.000000003"
   ]
  },
  {
   "cell_type": "code",
   "execution_count": 5,
   "metadata": {},
   "outputs": [],
   "source": [
    "\n",
    "def error_r(w,x,y,Lambda,s):\n",
    "    \n",
    "    p = np.matmul(x,w)\n",
    "\n",
    "    error = 0.5*np.matmul(np.transpose(p-y),(p-y))\n",
    "\n",
    "    \n",
    "    if(s == 'l1'):\n",
    "        error +=Lambda*np.abs(w).sum()\n",
    "        return error\n",
    "    \n",
    "    if(s =='l2'):\n",
    "        error +=Lambda*np.square(w).sum()\n",
    "        return error\n",
    "    "
   ]
  },
  {
   "cell_type": "code",
   "execution_count": 6,
   "metadata": {},
   "outputs": [],
   "source": [
    "# NORMALISE\n",
    "\n",
    "def normalise():\n",
    "    \n",
    "    global X,y\n",
    "    \n",
    "    x1_bar = X[:,0].mean()\n",
    "    x1_std = X[:,0].std()\n",
    "    \n",
    "\n",
    "    x2_bar = X[:,1].mean()\n",
    "    x2_std = X[:,1].std()\n",
    "    \n",
    "\n",
    "    \n",
    "    X[:,0] = (X[:,0] - x1_bar) / (x1_std)\n",
    "    X[:,1] = (X[:,1] - x2_bar)/(x2_std)\n",
    "\n",
    "    \n",
    "normalise();\n"
   ]
  },
  {
   "cell_type": "code",
   "execution_count": 7,
   "metadata": {},
   "outputs": [],
   "source": [
    "# Dividing data to training and testing\n",
    "\n",
    "xTrain, xTest, yTrain, yTest = train_test_split(X, y, test_size = 0.2, random_state = 0)\n",
    "\n",
    "nTrain = yTrain.size\n",
    "nTest  = yTest.size\n",
    "\n"
   ]
  },
  {
   "cell_type": "code",
   "execution_count": 8,
   "metadata": {},
   "outputs": [],
   "source": [
    "\n",
    "def update_r(w,x,y,Lambda,s):\n",
    "    \n",
    "    p = np.matmul(x,w) \n",
    "    \n",
    "    error_w = np.matmul(np.transpose(x),np.subtract(p,y))\n",
    "\n",
    "    if(s == 'l1'):\n",
    "        w_df = np.copy(w)\n",
    "        w_df[w_df<0]=-1\n",
    "        w_df[w_df>0]=1\n",
    "        \n",
    "\n",
    "        error_w += Lambda*w_df\n",
    "        \n",
    "    \n",
    "    \n",
    "    if(s=='l2'):\n",
    "        error_w +=  2*Lambda*w\n",
    "        \n",
    "\n",
    "   \n",
    "    w -= learn_rate*error_w\n",
    "    \n",
    "    \n",
    "    return w\n",
    "    "
   ]
  },
  {
   "cell_type": "code",
   "execution_count": 9,
   "metadata": {},
   "outputs": [],
   "source": [
    "def polyregress(x,yTrain,n,Lambda,s):\n",
    "    \n",
    "    count =0;\n",
    "    \n",
    "    N = yTrain.size\n",
    "    x = np.zeros((N,1))\n",
    "    x = np.delete(x,0,1)    \n",
    "\n",
    "    for k in tqdm_notebook(range(n+1)):\n",
    "        for i in range(n+1-k):\n",
    "            for j in range(n+1-k):\n",
    "                if(i+j==n-k):\n",
    "\n",
    "                    p = np.multiply(np.power(xTrain[:,0:1],i),np.power(xTrain[:,1:2],j))\n",
    "                    \n",
    "                    x = np.insert(x,[count],p,axis=1)\n",
    "        \n",
    "                    count = count+1\n",
    "\n",
    "\n",
    "\n",
    "    x = np.fliplr(x)\n",
    "    \n",
    "\n",
    "\n",
    "    \n",
    "    \n",
    "    w = np.random.randint(1,100,size=(count,1))*0.01\n",
    "\n",
    "    for i in tqdm_notebook(range(10000)):\n",
    "        \n",
    "        w = update_r(w,x,yTrain,Lambda,s)\n",
    "        \n",
    "        \n",
    "    error = error_r(w,x,yTrain,Lambda,s)\n",
    "        \n",
    "    print('\\nModel:\\n\\n ',w,'\\n\\nHalf sum of squares: ',error,'\\nMean Sqaured Error: ',error/N)\n",
    "    \n",
    "    return w"
   ]
  },
  {
   "cell_type": "code",
   "execution_count": 10,
   "metadata": {},
   "outputs": [],
   "source": [
    "def test(w,x,yTest,n,Lambda,s): # n is the order \n",
    "        \n",
    "        \n",
    "        \n",
    "        count =0;\n",
    "    \n",
    "        N = yTest.size\n",
    "        x = np.zeros((N,1))\n",
    "        x = np.delete(x,0,1)    \n",
    "\n",
    "        for k in range(n+1):\n",
    "            for i in range(n+1-k):\n",
    "                for j in range(n+1-k):\n",
    "                    if(i+j==n-k):\n",
    "\n",
    "                        p = np.multiply(np.power(xTest[:,0:1],i),np.power(xTest[:,1:2],j))\n",
    "\n",
    "                        x = np.insert(x,[count],p,axis=1)\n",
    "                        count = count+1\n",
    "\n",
    "\n",
    "\n",
    "        x = np.fliplr(x)\n",
    "        \n",
    "        \n",
    "        \n",
    "        R2 = R_squared(w,x,yTest)\n",
    "        \n",
    "        \n",
    "        RMSE = np.sqrt(2*error_r(w,x,yTest,Lambda,s)/N)\n",
    "\n",
    "        return RMSE,R2"
   ]
  },
  {
   "cell_type": "code",
   "execution_count": 11,
   "metadata": {},
   "outputs": [],
   "source": [
    "def R_squared(w,x,y):\n",
    "    \n",
    "    y_bar = np.copy(np.mean(y))\n",
    "    \n",
    "    \n",
    "    ss_total = np.square(y-y_bar).sum()\n",
    "   \n",
    "    p = np.matmul(x,w)\n",
    "    \n",
    "    ss_reg = np.square(p-y).sum()\n",
    "    \n",
    "    \n",
    "    \n",
    "        \n",
    "    R_2 = 1-(ss_reg/ss_total)\n",
    "    \n",
    "    return R_2"
   ]
  },
  {
   "cell_type": "code",
   "execution_count": 12,
   "metadata": {},
   "outputs": [
    {
     "name": "stdout",
     "output_type": "stream",
     "text": [
      "Degree: 1 \n",
      "\n"
     ]
    },
    {
     "data": {
      "application/vnd.jupyter.widget-view+json": {
       "model_id": "c42c29ae92fb4da8b626e156a83c6b31",
       "version_major": 2,
       "version_minor": 0
      },
      "text/plain": [
       "HBox(children=(IntProgress(value=0, max=2), HTML(value='')))"
      ]
     },
     "metadata": {},
     "output_type": "display_data"
    },
    {
     "name": "stdout",
     "output_type": "stream",
     "text": [
      "\n"
     ]
    },
    {
     "data": {
      "application/vnd.jupyter.widget-view+json": {
       "model_id": "6b6cda549e66495994d2fe426f3eb550",
       "version_major": 2,
       "version_minor": 0
      },
      "text/plain": [
       "HBox(children=(IntProgress(value=0, max=10000), HTML(value='')))"
      ]
     },
     "metadata": {},
     "output_type": "display_data"
    },
    {
     "name": "stdout",
     "output_type": "stream",
     "text": [
      "\n",
      "\n",
      "Model:\n",
      "\n",
      "  [[22.1773799 ]\n",
      " [ 2.75843657]\n",
      " [-3.53229769]] \n",
      "\n",
      "Half sum of squares:  [[58541231.30766129]] \n",
      "Mean Sqaured Error:  [[168.27124993]]\n",
      "\n",
      "\n",
      "On the Test Data\n",
      "RMSE:  [[18.46984872]] \n",
      "R2:  0.025403992828374244\n"
     ]
    }
   ],
   "source": [
    "\n",
    "'''\n",
    " Part-A and B\n",
    " \n",
    " Polyregress() function recieves the xdata,ydata,degree of the polynomial,Lambda,Type of regularisation respectively\n",
    " as input\n",
    " \n",
    "'''\n",
    "n = 1\n",
    "Lambda = 0\n",
    "print(\"Degree:\",n,'\\n')\n",
    "\n",
    "w_final = polyregress(xTrain,yTrain,n,Lambda,'l2')\n",
    "\n",
    "rmse,r2 = test(w_final,xTest,yTest,n,Lambda,'l2')\n",
    "\n",
    "print('\\n\\nOn the Test Data\\nRMSE: ',rmse,'\\nR2: ',r2)\n"
   ]
  },
  {
   "cell_type": "code",
   "execution_count": 13,
   "metadata": {},
   "outputs": [
    {
     "ename": "IndentationError",
     "evalue": "expected an indented block (<ipython-input-13-9bf4c895dfa0>, line 11)",
     "output_type": "error",
     "traceback": [
      "\u001b[1;36m  File \u001b[1;32m\"<ipython-input-13-9bf4c895dfa0>\"\u001b[1;36m, line \u001b[1;32m11\u001b[0m\n\u001b[1;33m    l = 0\u001b[0m\n\u001b[1;37m    ^\u001b[0m\n\u001b[1;31mIndentationError\u001b[0m\u001b[1;31m:\u001b[0m expected an indented block\n"
     ]
    }
   ],
   "source": [
    "\n",
    "    '''\n",
    "    PART C\n",
    "    \n",
    "      l1 and l2 regularisation of Nth degree polynomial\n",
    "    \n",
    "    '''\n",
    "def binarySearchLambda(xTrain,yTrain,xTest,yTest,n,s):\n",
    "    \n",
    "    \n",
    "    #Binary search for Lambda\n",
    "    l = 0\n",
    "    r = 1000\n",
    "    count=0\n",
    "    RMSE = np.array([])\n",
    "    Lambda = np.array([])\n",
    "\n",
    "    while(l<=r):\n",
    "\n",
    "        mid = (l + r)/2\n",
    "\n",
    "        print(mid)\n",
    "\n",
    "\n",
    "        Lambda = np.append(Lambda,mid)\n",
    "\n",
    "        w_final = polyregress(xTrain,yTrain,n,mid,s)\n",
    "\n",
    "        rmse_mid,r2_mid = test(w_final,xTest,yTest,n,mid,s)\n",
    "\n",
    "        RMSE = np.append(RMSE,rmse_mid)\n",
    "\n",
    "        count= count +1\n",
    "\n",
    "\n",
    "    #RMSE FOR RIGHT HALF\n",
    "    \n",
    "        c = 0.01*mid\n",
    "\n",
    "        w_final = polyregress(xTrain,yTrain,n,mid+c,s)\n",
    "\n",
    "        rmse_r,r2_r =  test(w_final,xTest,yTest,n,mid+c,s)\n",
    "\n",
    "\n",
    "    # RMSE FOR LEFT HALF\n",
    "\n",
    "        w_final = polyregress(xTrain,yTrain,n,mid-c,s)\n",
    "\n",
    "        rmse_l,r2_l =  test(w_final,xTest,yTest,n,mid-c,s)    \n",
    "\n",
    "\n",
    "        if(rmse_r < rmse_mid):\n",
    "            l = mid\n",
    "\n",
    "\n",
    "\n",
    "        if(rmse_l < rmse_mid):\n",
    "\n",
    "            r = mid\n",
    "            \n",
    "        if(rmse_mid < rmse_l and rmse_mid < rmse_r):\n",
    "            break\n",
    "\n",
    "\n",
    "        if(count==10):\n",
    "            break\n",
    "        \n",
    "    plt.plot(Lambda,RMSE)\n",
    "    plt.ylabel('RMSE')\n",
    "    plt.xlabel('Lambda')\n",
    "    plt.title(s+'Regularisation')\n",
    "    plt.show() \n",
    "\n",
    "# binarySearchLambda(xTrain,yTrain,xTest,yTest,6,'l2')\n",
    "\n",
    "\n",
    "    "
   ]
  },
  {
   "cell_type": "code",
   "execution_count": null,
   "metadata": {},
   "outputs": [],
   "source": []
  },
  {
   "cell_type": "code",
   "execution_count": null,
   "metadata": {},
   "outputs": [],
   "source": []
  }
 ],
 "metadata": {
  "kernelspec": {
   "display_name": "Python 3",
   "language": "python",
   "name": "python3"
  },
  "language_info": {
   "codemirror_mode": {
    "name": "ipython",
    "version": 3
   },
   "file_extension": ".py",
   "mimetype": "text/x-python",
   "name": "python",
   "nbconvert_exporter": "python",
   "pygments_lexer": "ipython3",
   "version": "3.7.4"
  }
 },
 "nbformat": 4,
 "nbformat_minor": 2
}
