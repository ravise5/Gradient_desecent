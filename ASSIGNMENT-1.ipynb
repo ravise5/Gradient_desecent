{
 "cells": [
  {
   "cell_type": "code",
   "execution_count": 1,
   "metadata": {},
   "outputs": [],
   "source": [
    "                                                # ASSIGNMENT -- 1\n",
    "                                                \n"
   ]
  },
  {
   "cell_type": "code",
   "execution_count": 2,
   "metadata": {},
   "outputs": [],
   "source": [
    "import pandas as pd\n",
    "import matplotlib.pyplot as plt\n",
    "import numpy as np\n",
    "from numpy.linalg import inv\n",
    "from tqdm import tqdm_notebook\n",
    "from sklearn.model_selection import train_test_split\n",
    "\n",
    "\n",
    "\n",
    "data = pd.read_csv(r\"R:\\3-1\\CS F320\\3D_spatial_network.csv\")\n",
    "\n",
    "w = np.random.randint(1,100,size=(3,1))*0.01\n",
    "\n",
    "\n",
    "learn_rate =0.000001*3\n"
   ]
  },
  {
   "cell_type": "code",
   "execution_count": 3,
   "metadata": {},
   "outputs": [],
   "source": [
    "\n",
    "y = np.array(data.iloc[:,2:3].values)\n",
    "x = np.array(data.iloc[:,0:2].values)\n"
   ]
  },
  {
   "cell_type": "code",
   "execution_count": 4,
   "metadata": {},
   "outputs": [],
   "source": [
    "\n",
    "\n",
    "def normalise():\n",
    "    \n",
    "    global x,y\n",
    "    \n",
    "    x1_mean = x[:,0].mean()\n",
    "    x1_std = x[:,0].std()\n",
    "    \n",
    "\n",
    "    x2_mean = x[:,1].mean()\n",
    "    x2_std = x[:,1].std()\n",
    "\n",
    "\n",
    "    \n",
    "    x[:,0] = (x[:,0] - x1_mean) / x1_std\n",
    "    x[:,1] = (x[:,1] - x2_mean)/x2_std\n",
    "\n",
    "    \n",
    "normalise();\n",
    "\n",
    "x = np.insert(x,0,1,axis=1)\n"
   ]
  },
  {
   "cell_type": "code",
   "execution_count": 5,
   "metadata": {},
   "outputs": [],
   "source": [
    "# Dividing data to training and testing\n",
    "\n",
    "xTrain, xTest, yTrain, yTest = train_test_split(x, y, test_size = 0.2, random_state = 0)\n"
   ]
  },
  {
   "cell_type": "code",
   "execution_count": 6,
   "metadata": {},
   "outputs": [],
   "source": [
    "def error_cal(w,x,y):\n",
    "    error =0\n",
    "    p = x.dot(w)\n",
    "    error = 0.5*np.square(y-p).sum()\n",
    "    return error\n",
    "    "
   ]
  },
  {
   "cell_type": "code",
   "execution_count": 7,
   "metadata": {},
   "outputs": [],
   "source": [
    "def error_r(w,x,y,Lambda,s):\n",
    "    \n",
    "    p = x.dot(w)    \n",
    "    \n",
    "    \n",
    "    error = 0.5*np.square(p-y).sum()\n",
    "\n",
    "    \n",
    "    if(s == 'l1'):\n",
    "        error +=Lambda*np.abs(w).sum()\n",
    "        return error\n",
    "    \n",
    "    if(s =='l2'):\n",
    "        error +=Lambda*np.square(w).sum()\n",
    "        return error\n",
    "    \n",
    "  \n",
    "    "
   ]
  },
  {
   "cell_type": "code",
   "execution_count": 8,
   "metadata": {},
   "outputs": [],
   "source": [
    "#  Calculates the R2\n",
    "\n",
    "\n",
    "def R_squared(w,x,y):\n",
    "    \n",
    "    y_bar = np.mean(y)\n",
    "    \n",
    "    \n",
    "    ss_total = np.square(y-y_bar).sum()\n",
    "   \n",
    "    p = x.dot(w)\n",
    "    \n",
    "    ss_reg = np.square(p-y).sum()\n",
    "    \n",
    "    \n",
    "        \n",
    "    R_2 = 1-(ss_reg/ss_total)\n",
    "    \n",
    "    return R_2"
   ]
  },
  {
   "cell_type": "code",
   "execution_count": 9,
   "metadata": {},
   "outputs": [],
   "source": [
    "# Linear Regression Function\n",
    "\n",
    "def linear_regress(w,x,y,Lambda,s,plot):\n",
    "    \n",
    "    N = y.size\n",
    "    \n",
    "    loss = np.zeros(50)\n",
    "    a=0\n",
    "    \n",
    "     \n",
    "    \n",
    "    for i in tqdm_notebook(range(1000)):\n",
    "            \n",
    "            error = error_r(w,xTrain,yTrain,Lambda,s)\n",
    "            \n",
    "            if(i%20 == 0):\n",
    "            \n",
    "                loss[a]=error/N\n",
    "                \n",
    "                a=a+1\n",
    "            \n",
    "            w = update_r(w,xTrain,yTrain,Lambda,s)\n",
    "     \n",
    "    if(plot =='on'):\n",
    "        \n",
    "        plt.plot([i*20 for i in range(50)],loss)\n",
    "\n",
    "        plt.xlabel(\"Number of Interatons\")\n",
    "\n",
    "        plt.ylabel(\"Loss\")\n",
    "\n",
    "        plt.title(\"Gradient Descend\")\n",
    "\n",
    "        plt.show()\n",
    "            \n",
    "    return w\n",
    "     \n"
   ]
  },
  {
   "cell_type": "code",
   "execution_count": 10,
   "metadata": {},
   "outputs": [],
   "source": [
    "def stochastic(w,x,y):\n",
    "    N = y.size\n",
    "    \n",
    "    loss = np.zeros(10)\n",
    "    \n",
    "    for j in tqdm_notebook(range(10)):\n",
    "        \n",
    "        for i in range(N):\n",
    "\n",
    "            x_i = np.copy(x[i])\n",
    "\n",
    "            x_i.shape = (1,3)\n",
    "\n",
    "            w = update(w,x_i,y[i])\n",
    "            \n",
    "        loss[j]  = error_r(w,x,y,0,'l2')/N\n",
    "\n",
    "        \n",
    "    error = error_r(w,x,y,0,'l2')\n",
    "    \n",
    "    plt.plot([i for i in range(10)],loss)\n",
    "    \n",
    "    plt.xlabel(\"Number of Interatons\")\n",
    "    \n",
    "    plt.ylabel(\"Loss\")\n",
    "    \n",
    "    plt.title(\"Stochastic Gradient Descent\")\n",
    "    \n",
    "    plt.show()\n",
    "            \n",
    "    \n",
    "    print('Model:\\n',w,'\\nsum of squares:',error,'\\nMean squared error:',error/N)\n",
    "    \n",
    "    return w"
   ]
  },
  {
   "cell_type": "code",
   "execution_count": 11,
   "metadata": {},
   "outputs": [],
   "source": [
    "def update(w,x,y):\n",
    "    \n",
    "    error_w = np.zeros((3,1))\n",
    "    \n",
    "    p = x.dot(w)\n",
    "\n",
    "    error_w = (p-y)*np.transpose(x)\n",
    "   \n",
    "    w -= learn_rate*error_w\n",
    "    \n",
    "    return w"
   ]
  },
  {
   "cell_type": "code",
   "execution_count": 12,
   "metadata": {},
   "outputs": [],
   "source": [
    "def update_r(w,x,y,Lambda,s):\n",
    "    p = x.dot(w)\n",
    "    \n",
    "    w_df = np.copy(w)\n",
    "    \n",
    "    error_w = np.matmul(np.transpose(x),(p - y))\n",
    "    \n",
    "    \n",
    "    if(s == 'l1'):\n",
    "        w_df[w_df<0]=-1\n",
    "        w_df[w_df>0]=1\n",
    "        \n",
    "\n",
    "        error_w += Lambda*w_df\n",
    "        \n",
    "    \n",
    "    \n",
    "    if(s=='l2'):\n",
    "        error_w +=  2*Lambda*w\n",
    "   \n",
    "    w -= learn_rate*error_w\n",
    "    \n",
    "    return w\n",
    "    \n",
    "    \n",
    "    "
   ]
  },
  {
   "cell_type": "code",
   "execution_count": 13,
   "metadata": {},
   "outputs": [],
   "source": [
    "\n",
    "\n",
    "def test(w,xTest,yTest,Lambda,s):\n",
    "        \n",
    "        n = yTest.size\n",
    "        \n",
    "        R2 = R_squared(w,xTest,yTest)\n",
    "        \n",
    "        RMSE = np.sqrt(2*error_r(w,xTest,yTest,Lambda,s)/n)\n",
    "        \n",
    "\n",
    "        return RMSE,R2\n",
    "    \n",
    "    \n",
    "    "
   ]
  },
  {
   "cell_type": "code",
   "execution_count": 14,
   "metadata": {},
   "outputs": [],
   "source": [
    "# solving using normal equations\n",
    "\n",
    "def normal_eq(x,y):\n",
    "    \n",
    "    w = np.zeros((3,1))\n",
    "    \n",
    "    x_t = np.transpose(x)\n",
    "    \n",
    "    x_bar = np.matmul(x_t,x)\n",
    "    \n",
    "    x_inv = inv(x_bar)\n",
    "    \n",
    "    k = np.matmul(x_t,y)\n",
    "    \n",
    "    w = np.matmul(x_inv,k)\n",
    "    \n",
    "    return w\n",
    "    \n",
    "    \n",
    "    \n",
    "    "
   ]
  },
  {
   "cell_type": "code",
   "execution_count": 15,
   "metadata": {},
   "outputs": [],
   "source": [
    "def binarySearchLambda(xTrain,yTrain,xTest,yTest,s):\n",
    "    l=0\n",
    "    r=1000\n",
    "    count =0\n",
    "    RMSE = np.array([])\n",
    "    Lambda = np.array([])\n",
    "\n",
    "    w = np.random.randint(1,100,size=(3,1))*0.01\n",
    "\n",
    "    while(l<=r):\n",
    "\n",
    "        mid = (l + r)/2\n",
    "\n",
    "        print(mid)\n",
    "\n",
    "        Lambda = np.append(Lambda,mid)\n",
    "\n",
    "        w_final = linear_regress(w,xTrain,yTrain,mid,s,'off')\n",
    "\n",
    "        rmse_mid,r2_mid = test(w_final,xTest,yTest,mid,s)\n",
    "\n",
    "        RMSE = np.append(RMSE,rmse_mid)\n",
    "\n",
    "        count= count +1\n",
    "        \n",
    "        c = 0.01*mid\n",
    "\n",
    "    #     RMSE FOR RIGHT HALF\n",
    "\n",
    "        w_final = linear_regress(w,xTrain,yTrain,mid+c,s,'off')\n",
    "\n",
    "        rmse_r,r2_r =  test(w_final,xTest,yTest,mid+c,s)\n",
    "\n",
    "\n",
    "    # RMSE FOR LEFT HALF\n",
    "\n",
    "        w_final = linear_regress(w,xTrain,yTrain,mid-c,s,'off')\n",
    "\n",
    "        rmse_l,r2_l =  test(w_final,xTest,yTest,mid-c,s)    \n",
    "\n",
    "\n",
    "        if(rmse_r < rmse_mid):\n",
    "            l = mid\n",
    "\n",
    "\n",
    "\n",
    "        if(rmse_l < rmse_mid):\n",
    "\n",
    "            r = mid\n",
    "\n",
    "            \n",
    "        if(rmse_mid < rmse_l and rmse_mid < rmse_r):\n",
    "            break\n",
    "\n",
    "        if(count==10):\n",
    "            break\n",
    "            \n",
    "            \n",
    "    plt.plot(Lambda,RMSE)\n",
    "    plt.ylabel('RMSE')\n",
    "    plt.xlabel('Lambda')\n",
    "    plt.title('L1 Normalisation')\n",
    "    plt.show() \n",
    "        "
   ]
  },
  {
   "cell_type": "code",
   "execution_count": 16,
   "metadata": {},
   "outputs": [
    {
     "name": "stdout",
     "output_type": "stream",
     "text": [
      "Part-A \n",
      "Gradient Descent:\n"
     ]
    },
    {
     "data": {
      "application/vnd.jupyter.widget-view+json": {
       "model_id": "028c528880424fb29de72f9c0ae97d3b",
       "version_major": 2,
       "version_minor": 0
      },
      "text/plain": [
       "HBox(children=(IntProgress(value=0, max=1000), HTML(value='')))"
      ]
     },
     "metadata": {},
     "output_type": "display_data"
    },
    {
     "name": "stdout",
     "output_type": "stream",
     "text": [
      "\n"
     ]
    },
    {
     "data": {
      "image/png": "[encoded data removed]",
      "text/plain": [
       "<Figure size 432x288 with 1 Axes>"
      ]
     },
     "metadata": {
      "needs_background": "light"
     },
     "output_type": "display_data"
    },
    {
     "name": "stdout",
     "output_type": "stream",
     "text": [
      "Model:\n",
      " [[22.17800962]\n",
      " [ 2.79440781]\n",
      " [-3.5682518 ]]\n",
      "\n",
      "On the Test Data\n",
      "\n",
      " RMSE:  18.46987496271496 \n",
      " R2:  0.025401222950555913\n"
     ]
    }
   ],
   "source": [
    "\n",
    "# Part A _ Gradient descent \n",
    "\n",
    "'''\n",
    "The fiunction linear_regression takes inputs w,x data, y data, Lambda,type of normalisation, plot graph on/off\n",
    "'''\n",
    "\n",
    "w = np.random.randint(1,100,size=(3,1))*0.01\n",
    "\n",
    "print(\"Part-A \\nGradient Descent:\")\n",
    "\n",
    "w_final = linear_regress(w,xTrain,yTrain,0,'l2','on')\n",
    "\n",
    "print(\"Model:\\n\",w_final)\n",
    "\n",
    "rmse,r2 = test(w_final,xTest,yTest,0,'l2')\n",
    "\n",
    "print('\\nOn the Test Data\\n\\n RMSE: ',rmse,'\\n R2: ',r2)\n",
    "\n",
    "\n",
    "\n",
    "    "
   ]
  },
  {
   "cell_type": "code",
   "execution_count": 17,
   "metadata": {},
   "outputs": [
    {
     "name": "stdout",
     "output_type": "stream",
     "text": [
      "Part-B\n",
      "Stochastic Gradient Descent\n"
     ]
    },
    {
     "data": {
      "application/vnd.jupyter.widget-view+json": {
       "model_id": "a866a38e15bd4bd983806a662303a952",
       "version_major": 2,
       "version_minor": 0
      },
      "text/plain": [
       "HBox(children=(IntProgress(value=0, max=10), HTML(value='')))"
      ]
     },
     "metadata": {},
     "output_type": "display_data"
    },
    {
     "name": "stdout",
     "output_type": "stream",
     "text": [
      "\n"
     ]
    },
    {
     "data": {
      "image/png": "[encoded data removed]",
      "text/plain": [
       "<Figure size 432x288 with 1 Axes>"
      ]
     },
     "metadata": {
      "needs_background": "light"
     },
     "output_type": "display_data"
    },
    {
     "name": "stdout",
     "output_type": "stream",
     "text": [
      "Model:\n",
      " [[22.17051443]\n",
      " [ 2.76072383]\n",
      " [-3.53727034]] \n",
      "sum of squares: 58541204.64732966 \n",
      "Mean squared error: 168.27117329599383\n",
      "\n",
      "On the Test Data\n",
      "\n",
      " RMSE:  18.46987815192398 \n",
      " R2:  0.0254008863809273\n"
     ]
    }
   ],
   "source": [
    "# Part B Stochastic Gradient Descend\n",
    "\n",
    "print('Part-B\\nStochastic Gradient Descent')\n",
    "\n",
    "w = np.random.randint(1,100,size=(3,1))*0.01\n",
    "\n",
    "w_final = np.zeros((3,1))\n",
    "\n",
    "w_final = stochastic(w,xTrain,yTrain)\n",
    "\n",
    "rmse,r2 = test(w_final,xTest,yTest,0,'l2')\n",
    "\n",
    "print('\\nOn the Test Data\\n\\n RMSE: ',rmse,'\\n R2: ',r2)\n"
   ]
  },
  {
   "cell_type": "code",
   "execution_count": 18,
   "metadata": {},
   "outputs": [
    {
     "name": "stdout",
     "output_type": "stream",
     "text": [
      "500.0\n"
     ]
    },
    {
     "data": {
      "application/vnd.jupyter.widget-view+json": {
       "model_id": "855f316fc88e453f9234a3c96b7afc74",
       "version_major": 2,
       "version_minor": 0
      },
      "text/plain": [
       "HBox(children=(IntProgress(value=0, max=1000), HTML(value='')))"
      ]
     },
     "metadata": {},
     "output_type": "display_data"
    },
    {
     "name": "stdout",
     "output_type": "stream",
     "text": [
      "\n"
     ]
    },
    {
     "data": {
      "application/vnd.jupyter.widget-view+json": {
       "model_id": "bcc8733b870b4e3592efd5e45f605917",
       "version_major": 2,
       "version_minor": 0
      },
      "text/plain": [
       "HBox(children=(IntProgress(value=0, max=1000), HTML(value='')))"
      ]
     },
     "metadata": {},
     "output_type": "display_data"
    },
    {
     "name": "stdout",
     "output_type": "stream",
     "text": [
      "\n"
     ]
    },
    {
     "data": {
      "application/vnd.jupyter.widget-view+json": {
       "model_id": "399ba5cb173a4a138902ff4c0b1c2846",
       "version_major": 2,
       "version_minor": 0
      },
      "text/plain": [
       "HBox(children=(IntProgress(value=0, max=1000), HTML(value='')))"
      ]
     },
     "metadata": {},
     "output_type": "display_data"
    },
    {
     "name": "stdout",
     "output_type": "stream",
     "text": [
      "\n",
      "250.0\n"
     ]
    },
    {
     "data": {
      "application/vnd.jupyter.widget-view+json": {
       "model_id": "59fa7c2ba6214244a0650622687f7e3a",
       "version_major": 2,
       "version_minor": 0
      },
      "text/plain": [
       "HBox(children=(IntProgress(value=0, max=1000), HTML(value='')))"
      ]
     },
     "metadata": {},
     "output_type": "display_data"
    },
    {
     "name": "stdout",
     "output_type": "stream",
     "text": [
      "\n"
     ]
    },
    {
     "data": {
      "application/vnd.jupyter.widget-view+json": {
       "model_id": "2e8f345db9dc4274962de2b21751a1ff",
       "version_major": 2,
       "version_minor": 0
      },
      "text/plain": [
       "HBox(children=(IntProgress(value=0, max=1000), HTML(value='')))"
      ]
     },
     "metadata": {},
     "output_type": "display_data"
    },
    {
     "name": "stdout",
     "output_type": "stream",
     "text": [
      "\n"
     ]
    },
    {
     "ename": "KeyboardInterrupt",
     "evalue": "",
     "output_type": "error",
     "traceback": [
      "\u001b[1;31m---------------------------------------------------------------------------\u001b[0m",
      "\u001b[1;31mKeyboardInterrupt\u001b[0m                         Traceback (most recent call last)",
      "\u001b[1;32m<ipython-input-18-72fbb221f1f2>\u001b[0m in \u001b[0;36m<module>\u001b[1;34m\u001b[0m\n\u001b[0;32m      1\u001b[0m \u001b[1;31m# Part C L1 and L2 Normalisation\u001b[0m\u001b[1;33m\u001b[0m\u001b[1;33m\u001b[0m\u001b[1;33m\u001b[0m\u001b[0m\n\u001b[0;32m      2\u001b[0m \u001b[1;33m\u001b[0m\u001b[0m\n\u001b[1;32m----> 3\u001b[1;33m \u001b[0mbinarySearchLambda\u001b[0m\u001b[1;33m(\u001b[0m\u001b[0mxTrain\u001b[0m\u001b[1;33m,\u001b[0m\u001b[0myTrain\u001b[0m\u001b[1;33m,\u001b[0m\u001b[0mxTest\u001b[0m\u001b[1;33m,\u001b[0m\u001b[0myTest\u001b[0m\u001b[1;33m,\u001b[0m\u001b[1;34m'l2'\u001b[0m\u001b[1;33m)\u001b[0m\u001b[1;33m\u001b[0m\u001b[1;33m\u001b[0m\u001b[0m\n\u001b[0m\u001b[0;32m      4\u001b[0m \u001b[1;33m\u001b[0m\u001b[0m\n\u001b[0;32m      5\u001b[0m \u001b[1;33m\u001b[0m\u001b[0m\n",
      "\u001b[1;32m<ipython-input-15-5fb2d128fb70>\u001b[0m in \u001b[0;36mbinarySearchLambda\u001b[1;34m(xTrain, yTrain, xTest, yTest, s)\u001b[0m\n\u001b[0;32m     28\u001b[0m     \u001b[1;31m#     RMSE FOR RIGHT HALF\u001b[0m\u001b[1;33m\u001b[0m\u001b[1;33m\u001b[0m\u001b[1;33m\u001b[0m\u001b[0m\n\u001b[0;32m     29\u001b[0m \u001b[1;33m\u001b[0m\u001b[0m\n\u001b[1;32m---> 30\u001b[1;33m         \u001b[0mw_final\u001b[0m \u001b[1;33m=\u001b[0m \u001b[0mlinear_regress\u001b[0m\u001b[1;33m(\u001b[0m\u001b[0mw\u001b[0m\u001b[1;33m,\u001b[0m\u001b[0mxTrain\u001b[0m\u001b[1;33m,\u001b[0m\u001b[0myTrain\u001b[0m\u001b[1;33m,\u001b[0m\u001b[0mmid\u001b[0m\u001b[1;33m+\u001b[0m\u001b[0mc\u001b[0m\u001b[1;33m,\u001b[0m\u001b[0ms\u001b[0m\u001b[1;33m,\u001b[0m\u001b[1;34m'off'\u001b[0m\u001b[1;33m)\u001b[0m\u001b[1;33m\u001b[0m\u001b[1;33m\u001b[0m\u001b[0m\n\u001b[0m\u001b[0;32m     31\u001b[0m \u001b[1;33m\u001b[0m\u001b[0m\n\u001b[0;32m     32\u001b[0m         \u001b[0mrmse_r\u001b[0m\u001b[1;33m,\u001b[0m\u001b[0mr2_r\u001b[0m \u001b[1;33m=\u001b[0m  \u001b[0mtest\u001b[0m\u001b[1;33m(\u001b[0m\u001b[0mw_final\u001b[0m\u001b[1;33m,\u001b[0m\u001b[0mxTest\u001b[0m\u001b[1;33m,\u001b[0m\u001b[0myTest\u001b[0m\u001b[1;33m,\u001b[0m\u001b[0mmid\u001b[0m\u001b[1;33m+\u001b[0m\u001b[0mc\u001b[0m\u001b[1;33m,\u001b[0m\u001b[0ms\u001b[0m\u001b[1;33m)\u001b[0m\u001b[1;33m\u001b[0m\u001b[1;33m\u001b[0m\u001b[0m\n",
      "\u001b[1;32m<ipython-input-9-1a021d495d99>\u001b[0m in \u001b[0;36mlinear_regress\u001b[1;34m(w, x, y, Lambda, s, plot)\u001b[0m\n\u001b[0;32m     12\u001b[0m     \u001b[1;32mfor\u001b[0m \u001b[0mi\u001b[0m \u001b[1;32min\u001b[0m \u001b[0mtqdm_notebook\u001b[0m\u001b[1;33m(\u001b[0m\u001b[0mrange\u001b[0m\u001b[1;33m(\u001b[0m\u001b[1;36m1000\u001b[0m\u001b[1;33m)\u001b[0m\u001b[1;33m)\u001b[0m\u001b[1;33m:\u001b[0m\u001b[1;33m\u001b[0m\u001b[1;33m\u001b[0m\u001b[0m\n\u001b[0;32m     13\u001b[0m \u001b[1;33m\u001b[0m\u001b[0m\n\u001b[1;32m---> 14\u001b[1;33m             \u001b[0merror\u001b[0m \u001b[1;33m=\u001b[0m \u001b[0merror_r\u001b[0m\u001b[1;33m(\u001b[0m\u001b[0mw\u001b[0m\u001b[1;33m,\u001b[0m\u001b[0mxTrain\u001b[0m\u001b[1;33m,\u001b[0m\u001b[0myTrain\u001b[0m\u001b[1;33m,\u001b[0m\u001b[0mLambda\u001b[0m\u001b[1;33m,\u001b[0m\u001b[0ms\u001b[0m\u001b[1;33m)\u001b[0m\u001b[1;33m\u001b[0m\u001b[1;33m\u001b[0m\u001b[0m\n\u001b[0m\u001b[0;32m     15\u001b[0m \u001b[1;33m\u001b[0m\u001b[0m\n\u001b[0;32m     16\u001b[0m             \u001b[1;32mif\u001b[0m\u001b[1;33m(\u001b[0m\u001b[0mi\u001b[0m\u001b[1;33m%\u001b[0m\u001b[1;36m20\u001b[0m \u001b[1;33m==\u001b[0m \u001b[1;36m0\u001b[0m\u001b[1;33m)\u001b[0m\u001b[1;33m:\u001b[0m\u001b[1;33m\u001b[0m\u001b[1;33m\u001b[0m\u001b[0m\n",
      "\u001b[1;32m<ipython-input-7-d1dfb69a81ae>\u001b[0m in \u001b[0;36merror_r\u001b[1;34m(w, x, y, Lambda, s)\u001b[0m\n\u001b[0;32m      1\u001b[0m \u001b[1;32mdef\u001b[0m \u001b[0merror_r\u001b[0m\u001b[1;33m(\u001b[0m\u001b[0mw\u001b[0m\u001b[1;33m,\u001b[0m\u001b[0mx\u001b[0m\u001b[1;33m,\u001b[0m\u001b[0my\u001b[0m\u001b[1;33m,\u001b[0m\u001b[0mLambda\u001b[0m\u001b[1;33m,\u001b[0m\u001b[0ms\u001b[0m\u001b[1;33m)\u001b[0m\u001b[1;33m:\u001b[0m\u001b[1;33m\u001b[0m\u001b[1;33m\u001b[0m\u001b[0m\n\u001b[0;32m      2\u001b[0m \u001b[1;33m\u001b[0m\u001b[0m\n\u001b[1;32m----> 3\u001b[1;33m     \u001b[0mp\u001b[0m \u001b[1;33m=\u001b[0m \u001b[0mx\u001b[0m\u001b[1;33m.\u001b[0m\u001b[0mdot\u001b[0m\u001b[1;33m(\u001b[0m\u001b[0mw\u001b[0m\u001b[1;33m)\u001b[0m\u001b[1;33m\u001b[0m\u001b[1;33m\u001b[0m\u001b[0m\n\u001b[0m\u001b[0;32m      4\u001b[0m \u001b[1;33m\u001b[0m\u001b[0m\n\u001b[0;32m      5\u001b[0m \u001b[1;33m\u001b[0m\u001b[0m\n",
      "\u001b[1;31mKeyboardInterrupt\u001b[0m: "
     ]
    }
   ],
   "source": [
    "# Part C L1 and L2 Normalisation\n",
    "\n",
    "binarySearchLambda(xTrain,yTrain,xTest,yTest,'l2') \n",
    "\n",
    "\n",
    "# After the binary search Lambda values for l1 and l2 were close to zero. Regularisation had no effect\n",
    "\n"
   ]
  },
  {
   "cell_type": "code",
   "execution_count": null,
   "metadata": {},
   "outputs": [],
   "source": [
    "# Part D Using normal equations \n",
    "\n",
    "print(\"Part-D\\nNormal Equations:\")\n",
    "\n",
    "w_final = normal_eq(xTrain,yTrain)\n",
    "\n",
    "print(\"Model:\\n\",w_final)\n",
    "\n",
    "rmse,r2 = test(w_final,xTest,yTest,0,'l2')\n",
    "\n",
    "print('\\nOn the Test Data\\n\\n RMSE: ',rmse,'\\n R2: ',r2)\n",
    "\n"
   ]
  }
 ],
 "metadata": {
  "kernelspec": {
   "display_name": "Python 3",
   "language": "python",
   "name": "python3"
  },
  "language_info": {
   "codemirror_mode": {
    "name": "ipython",
    "version": 3
   },
   "file_extension": ".py",
   "mimetype": "text/x-python",
   "name": "python",
   "nbconvert_exporter": "python",
   "pygments_lexer": "ipython3",
   "version": "3.7.4"
  }
 },
 "nbformat": 4,
 "nbformat_minor": 2
}
